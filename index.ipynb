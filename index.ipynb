{
 "cells": [
  {
   "cell_type": "markdown",
   "metadata": {},
   "source": [
    "Importing Libraries"
   ]
  },
  {
   "cell_type": "code",
   "execution_count": 1,
   "metadata": {},
   "outputs": [],
   "source": [
    "import cv2\n",
    "import pyautogui as robot"
   ]
  },
  {
   "cell_type": "markdown",
   "metadata": {},
   "source": [
    "Reading the haarcascade files"
   ]
  },
  {
   "cell_type": "code",
   "execution_count": 2,
   "metadata": {},
   "outputs": [],
   "source": [
    "eye_model = cv2.CascadeClassifier(\"haarcascade_eye.xml\")\n",
    "face_model = cv2.CascadeClassifier(\"haarcascade_frontalface_default.xml\")"
   ]
  },
  {
   "cell_type": "markdown",
   "metadata": {},
   "source": [
    "Describe `face_detect` function"
   ]
  },
  {
   "cell_type": "code",
   "execution_count": 5,
   "metadata": {},
   "outputs": [
    {
     "ename": "KeyboardInterrupt",
     "evalue": "",
     "output_type": "error",
     "traceback": [
      "\u001b[0;31m---------------------------------------------------------------------------\u001b[0m",
      "\u001b[0;31mKeyboardInterrupt\u001b[0m                         Traceback (most recent call last)",
      "Input \u001b[0;32mIn [5]\u001b[0m, in \u001b[0;36m<cell line: 5>\u001b[0;34m()\u001b[0m\n\u001b[1;32m      8\u001b[0m img \u001b[38;5;241m=\u001b[39m cv2\u001b[38;5;241m.\u001b[39mflip(img, \u001b[38;5;241m1\u001b[39m)\n\u001b[1;32m      9\u001b[0m gray \u001b[38;5;241m=\u001b[39m cv2\u001b[38;5;241m.\u001b[39mcvtColor(img, cv2\u001b[38;5;241m.\u001b[39mCOLOR_BGR2GRAY)\n\u001b[0;32m---> 11\u001b[0m face \u001b[38;5;241m=\u001b[39m \u001b[43mface_model\u001b[49m\u001b[38;5;241;43m.\u001b[39;49m\u001b[43mdetectMultiScale\u001b[49m\u001b[43m(\u001b[49m\u001b[43mgray\u001b[49m\u001b[43m)\u001b[49m\n\u001b[1;32m     12\u001b[0m \u001b[38;5;66;03m# We wrote this if so that if our face goes out of the frame, don't give us tuple error.\u001b[39;00m\n\u001b[1;32m     13\u001b[0m \u001b[38;5;28;01mif\u001b[39;00m \u001b[38;5;28mlen\u001b[39m(face) \u001b[38;5;241m>\u001b[39m \u001b[38;5;241m0\u001b[39m:\n",
      "\u001b[0;31mKeyboardInterrupt\u001b[0m: "
     ]
    }
   ],
   "source": [
    "loop = True\n",
    "cam = cv2.VideoCapture(0)\n",
    "\n",
    "\n",
    "while loop:\n",
    "    _, img = cam.read()\n",
    "    # We used the `flip` to show us the image like a mirror.\n",
    "    img = cv2.flip(img, 1)\n",
    "    gray = cv2.cvtColor(img, cv2.COLOR_BGR2GRAY)\n",
    "\n",
    "    face = face_model.detectMultiScale(gray)\n",
    "    # We wrote this if so that if our face goes out of the frame, don't give us tuple error.\n",
    "    if len(face) > 0:\n",
    "        xf = face[0][0]\n",
    "        yf = face[0][1]\n",
    "        xf2 = xf + face[0][2]\n",
    "        yf2 = yf + face[0][3]\n",
    "        gray_face = gray[yf:yf2, xf:yf2]\n",
    "        eyes = eye_model.detectMultiScale(gray_face, minSize=(30, 30), scaleFactor=1.1, minNeighbors=5)\n",
    "        imgout = img.copy()\n",
    "\n",
    "    out = cv2.rectangle(imgout, (xf, yf), (xf2, yf2), (0,250,0), 3)\n",
    "\n",
    "    white = (250,250,250)\n",
    "    red = (0,0,250)\n",
    "    color = white\n",
    "    \n",
    "    #the location of mouse x\n",
    "    mouse_x = robot.position().x\n",
    "    #the location of mouse y\n",
    "    mouse_y = robot.position().y\n",
    "\n",
    "    if xf < 400:\n",
    "        color = red\n",
    "        # ith this command, we say that if the speed of our head is high, move the mouse faster\n",
    "        mouse_x -= abs(xf-400)\n",
    "        robot.moveTo(mouse_x, mouse_y, 0)\n",
    "    \n",
    "    if xf2 > 900:\n",
    "        color = red\n",
    "        mouse_x += abs(xf2 - 900)\n",
    "        robot.moveTo(mouse_x, mouse_y, 0)\n",
    "\n",
    "    if yf < 100:\n",
    "        color = red\n",
    "        mouse_y -= abs(yf - 100)\n",
    "        robot.moveTo(mouse_x, mouse_y, 0)\n",
    "\n",
    "    if yf2 > 600:\n",
    "        color = red\n",
    "        mouse_y += abs(yf2 - 600)\n",
    "        robot.moveTo(mouse_x, mouse_y, 0)\n",
    "\n",
    "    out2 = cv2.rectangle(imgout, (400,100),(900,600),color,2)\n",
    "\n"
   ]
  }
 ],
 "metadata": {
  "kernelspec": {
   "display_name": "Python 3",
   "language": "python",
   "name": "python3"
  },
  "language_info": {
   "codemirror_mode": {
    "name": "ipython",
    "version": 3
   },
   "file_extension": ".py",
   "mimetype": "text/x-python",
   "name": "python",
   "nbconvert_exporter": "python",
   "pygments_lexer": "ipython3",
   "version": "3.10.11"
  }
 },
 "nbformat": 4,
 "nbformat_minor": 2
}
