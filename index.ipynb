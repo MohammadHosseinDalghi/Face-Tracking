{
 "cells": [
  {
   "cell_type": "markdown",
   "metadata": {},
   "source": [
    "Importing Libraries"
   ]
  },
  {
   "cell_type": "code",
   "execution_count": 1,
   "metadata": {},
   "outputs": [],
   "source": [
    "import cv2\n",
    "import pyautogui as robot"
   ]
  },
  {
   "cell_type": "markdown",
   "metadata": {},
   "source": [
    "Reading the haarcascade files"
   ]
  },
  {
   "cell_type": "code",
   "execution_count": 2,
   "metadata": {},
   "outputs": [],
   "source": [
    "eye_model = cv2.CascadeClassifier(\"haarcascade_eye.xml\")\n",
    "face_model = cv2.CascadeClassifier(\"haarcascade_frontalface_default.xml\")"
   ]
  },
  {
   "cell_type": "markdown",
   "metadata": {},
   "source": [
    "Describe `face_detect` function"
   ]
  },
  {
   "cell_type": "code",
   "execution_count": 7,
   "metadata": {},
   "outputs": [
    {
     "name": "stderr",
     "output_type": "stream",
     "text": [
      "2024-10-09 20:07:11.674 Python[31563:2093399] +[IMKClient subclass]: chose IMKClient_Legacy\n",
      "2024-10-09 20:07:11.674 Python[31563:2093399] +[IMKInputSession subclass]: chose IMKInputSession_Legacy\n"
     ]
    }
   ],
   "source": [
    "loop = True\n",
    "cam = cv2.VideoCapture(0)\n",
    "\n",
    "\n",
    "while loop:\n",
    "    _, img = cam.read()\n",
    "    # We used the `flip` to show us the image like a mirror.\n",
    "    img = cv2.flip(img, 1)\n",
    "    gray = cv2.cvtColor(img, cv2.COLOR_BGR2GRAY)\n",
    "\n",
    "    face = face_model.detectMultiScale(gray)\n",
    "    # We wrote this if so that if our face goes out of the frame, don't give us tuple error.\n",
    "    if len(face) > 0:\n",
    "        xf = face[0][0]\n",
    "        yf = face[0][1]\n",
    "        xf2 = xf + face[0][2]\n",
    "        yf2 = yf + face[0][3]\n",
    "        gray_face = gray[yf:yf2, xf:yf2]\n",
    "        eyes = eye_model.detectMultiScale(gray_face, minSize=(30, 30), scaleFactor=1.1, minNeighbors=5)\n",
    "        imgout = img.copy()\n",
    "\n",
    "    out = cv2.rectangle(imgout, (xf, yf), (xf2, yf2), (0,250,0), 3)\n",
    "\n",
    "    white = (250,250,250)\n",
    "    red = (0,0,250)\n",
    "    color = white\n",
    "    \n",
    "    #the location of mouse x\n",
    "    mouse_x = robot.position().x\n",
    "    #the location of mouse y\n",
    "    mouse_y = robot.position().y\n",
    "\n",
    "    if xf < 400:\n",
    "        color = red\n",
    "        # ith this command, we say that if the speed of our head is high, move the mouse faster\n",
    "        mouse_x -= abs(xf-400)\n",
    "        robot.moveTo(mouse_x, mouse_y, 0)\n",
    "    \n",
    "    if xf2 > 900:\n",
    "        color = red\n",
    "        mouse_x += abs(xf2 - 900)\n",
    "        robot.moveTo(mouse_x, mouse_y, 0)\n",
    "\n",
    "    if yf < 100:\n",
    "        color = red\n",
    "        mouse_y -= abs(yf - 100)\n",
    "        robot.moveTo(mouse_x, mouse_y, 0)\n",
    "\n",
    "    if yf2 > 600:\n",
    "        color = red\n",
    "        mouse_y += abs(yf2 - 600)\n",
    "        robot.moveTo(mouse_x, mouse_y, 0)\n",
    "\n",
    "    out2 = cv2.rectangle(imgout, (400,100),(900,600),color,2)\n",
    "\n",
    "    ic = 0\n",
    "    for (xe, ye, w, h) in eyes:\n",
    "        ic += 1\n",
    "        cv2.rectangle(imgout,(xe+xf, ye+yf), (xe+w+xf, ye+h+yf),(250,0,0),2)\n",
    "        if ic == 2:\n",
    "            break\n",
    "    \n",
    "    cv2.imshow('out',out)\n",
    "\n",
    "\n",
    "\n",
    "    if cv2.waitKey(1) == ord('q'):\n",
    "        loop = False\n",
    "        cv2.destroyAllWindows()\n",
    "        cam.release()\n",
    "        break"
   ]
  }
 ],
 "metadata": {
  "kernelspec": {
   "display_name": "Python 3",
   "language": "python",
   "name": "python3"
  },
  "language_info": {
   "codemirror_mode": {
    "name": "ipython",
    "version": 3
   },
   "file_extension": ".py",
   "mimetype": "text/x-python",
   "name": "python",
   "nbconvert_exporter": "python",
   "pygments_lexer": "ipython3",
   "version": "3.10.11"
  }
 },
 "nbformat": 4,
 "nbformat_minor": 2
}
